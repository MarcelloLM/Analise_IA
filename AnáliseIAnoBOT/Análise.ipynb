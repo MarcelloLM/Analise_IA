{
 "cells": [
  {
   "cell_type": "code",
   "execution_count": 10,
   "metadata": {},
   "outputs": [],
   "source": [
    "import pandas as pd \n",
    "from textblob import TextBlob\n",
    "from vaderSentiment.vaderSentiment import SentimentIntensityAnalyzer"
   ]
  },
  {
   "cell_type": "markdown",
   "metadata": {},
   "source": [
    "# 1. Análise de Satisfação do Cliente (CSAT)"
   ]
  },
  {
   "cell_type": "code",
   "execution_count": 12,
   "metadata": {},
   "outputs": [],
   "source": [
    "outubro2023 = r\"C:\\Users\\46241887807\\Desktop\\Py\\AnáliseIAnoBOT\\Bases\\Outubro2023.csv\"\n",
    "outubro2024 = r\"C:\\Users\\46241887807\\Desktop\\Py\\AnáliseIAnoBOT\\Bases\\Outubro2024.csv\"\n",
    "\n",
    "data_2023 = pd.read_csv(outubro2023)\n",
    "data_2024 = pd.read_csv(outubro2024)"
   ]
  },
  {
   "cell_type": "code",
   "execution_count": 13,
   "metadata": {},
   "outputs": [
    {
     "name": "stdout",
     "output_type": "stream",
     "text": [
      "Análise de Satisfação do Cliente (CSAT)\n",
      "Média de Satisfação 2023 (sem IA): 4.777292576419214\n",
      "Média de Satisfação 2024 (com IA): 4.823529411764706\n",
      "Notas Altas 2023: 221\n",
      "Notas Baixas 2023: 3\n",
      "Notas Altas 2024: 212\n",
      "Notas Baixas 2024: 2\n"
     ]
    }
   ],
   "source": [
    "# Converter a coluna 'surveyAnswerPostSurvey' para numérico e remover valores NaN\n",
    "data_2023['surveyAnswerPostSurvey'] = pd.to_numeric(data_2023['surveyAnswerPostSurvey'], errors='coerce')\n",
    "data_2024['surveyAnswerPostSurvey'] = pd.to_numeric(data_2024['surveyAnswerPostSurvey'], errors='coerce')\n",
    "\n",
    "# Filtrar apenas as interações com respostas de satisfação (CSAT)\n",
    "data_filtered_csat_2023 = data_2023.dropna(subset=['surveyAnswerPostSurvey'])\n",
    "data_filtered_csat_2024 = data_2024.dropna(subset=['surveyAnswerPostSurvey'])\n",
    "\n",
    "# Calcular a média de satisfação para cada período\n",
    "csat_mean_2023 = data_filtered_csat_2023['surveyAnswerPostSurvey'].mean()\n",
    "csat_mean_2024 = data_filtered_csat_2024['surveyAnswerPostSurvey'].mean()\n",
    "\n",
    "# Contagem de notas altas (4 ou 5) e baixas (1 ou 2)\n",
    "csat_high_2023 = data_filtered_csat_2023[data_filtered_csat_2023['surveyAnswerPostSurvey'] >= 4].shape[0]\n",
    "csat_low_2023 = data_filtered_csat_2023[data_filtered_csat_2023['surveyAnswerPostSurvey'] <= 2].shape[0]\n",
    "\n",
    "csat_high_2024 = data_filtered_csat_2024[data_filtered_csat_2024['surveyAnswerPostSurvey'] >= 4].shape[0]\n",
    "csat_low_2024 = data_filtered_csat_2024[data_filtered_csat_2024['surveyAnswerPostSurvey'] <= 2].shape[0]\n",
    "\n",
    "# Exibir os resultados\n",
    "print(\"Análise de Satisfação do Cliente (CSAT)\")\n",
    "print(f\"Média de Satisfação 2023 (sem IA): {csat_mean_2023}\")\n",
    "print(f\"Média de Satisfação 2024 (com IA): {csat_mean_2024}\")\n",
    "print(f\"Notas Altas 2023: {csat_high_2023}\")\n",
    "print(f\"Notas Baixas 2023: {csat_low_2023}\")\n",
    "print(f\"Notas Altas 2024: {csat_high_2024}\")\n",
    "print(f\"Notas Baixas 2024: {csat_low_2024}\")"
   ]
  },
  {
   "cell_type": "markdown",
   "metadata": {},
   "source": [
    "# 2. Análise de Sentimento nas Interações"
   ]
  },
  {
   "cell_type": "code",
   "execution_count": 14,
   "metadata": {},
   "outputs": [],
   "source": [
    "# Inicializando o analisador de sentimento VADER\n",
    "analyzer = SentimentIntensityAnalyzer()\n",
    "\n",
    "def analyze_sentiment(text):\n",
    "    \"\"\"Função para calcular o sentimento de uma string usando TextBlob e VADER.\"\"\"\n",
    "    if pd.isna(text):\n",
    "        return None  # Retornar None para textos ausentes\n",
    "    \n",
    "    # Análise de sentimento com TextBlob (polaridade varia de -1 a 1)\n",
    "    blob = TextBlob(text)\n",
    "    textblob_polarity = blob.sentiment.polarity\n",
    "    \n",
    "    # Análise de sentimento com VADER (dicionário de scores)\n",
    "    vader_scores = analyzer.polarity_scores(text)\n",
    "    vader_compound = vader_scores['compound']  # Valor composto da análise\n",
    "    \n",
    "    # Retornar uma média entre TextBlob e VADER para maior robustez\n",
    "    return (textblob_polarity + vader_compound) / 2"
   ]
  },
  {
   "cell_type": "code",
   "execution_count": 16,
   "metadata": {},
   "outputs": [
    {
     "name": "stderr",
     "output_type": "stream",
     "text": [
      "C:\\Users\\46241887807\\AppData\\Local\\Temp\\ipykernel_5364\\3987583099.py:2: SettingWithCopyWarning: \n",
      "A value is trying to be set on a copy of a slice from a DataFrame.\n",
      "Try using .loc[row_indexer,col_indexer] = value instead\n",
      "\n",
      "See the caveats in the documentation: https://pandas.pydata.org/pandas-docs/stable/user_guide/indexing.html#returning-a-view-versus-a-copy\n",
      "  data_filtered_csat_2023['sentiment_score'] = data_filtered_csat_2023['transcriptAll'].apply(analyze_sentiment)\n",
      "C:\\Users\\46241887807\\AppData\\Local\\Temp\\ipykernel_5364\\3987583099.py:3: SettingWithCopyWarning: \n",
      "A value is trying to be set on a copy of a slice from a DataFrame.\n",
      "Try using .loc[row_indexer,col_indexer] = value instead\n",
      "\n",
      "See the caveats in the documentation: https://pandas.pydata.org/pandas-docs/stable/user_guide/indexing.html#returning-a-view-versus-a-copy\n",
      "  data_filtered_csat_2024['sentiment_score'] = data_filtered_csat_2024['transcriptAll'].apply(analyze_sentiment)\n"
     ]
    }
   ],
   "source": [
    "# Aplicando a função nas colunas transcriptAll em cada período\n",
    "data_filtered_csat_2023['sentiment_score'] = data_filtered_csat_2023['transcriptAll'].apply(analyze_sentiment)\n",
    "data_filtered_csat_2024['sentiment_score'] = data_filtered_csat_2024['transcriptAll'].apply(analyze_sentiment)"
   ]
  },
  {
   "cell_type": "code",
   "execution_count": 17,
   "metadata": {},
   "outputs": [],
   "source": [
    "# Calculando o sentimento médio para cada período\n",
    "sentiment_mean_2023 = data_filtered_csat_2023['sentiment_score'].mean()\n",
    "sentiment_mean_2024 = data_filtered_csat_2024['sentiment_score'].mean()"
   ]
  },
  {
   "cell_type": "code",
   "execution_count": 18,
   "metadata": {},
   "outputs": [
    {
     "data": {
      "text/plain": [
       "(0.6502672315768891, 0.561907590870769)"
      ]
     },
     "execution_count": 18,
     "metadata": {},
     "output_type": "execute_result"
    }
   ],
   "source": [
    "# Exibindo os resultados\n",
    "sentiment_mean_2023, sentiment_mean_2024"
   ]
  },
  {
   "cell_type": "markdown",
   "metadata": {},
   "source": [
    "# 3. Tempo Médio de Primeira Resposta (First Response Time)"
   ]
  },
  {
   "cell_type": "code",
   "execution_count": 19,
   "metadata": {},
   "outputs": [],
   "source": [
    "# Convertendo as colunas de tempo de resposta para numérico para cálculo\n",
    "data_2023['firstResponseTimeAgentFromConsumer'] = pd.to_numeric(data_2023['firstResponseTimeAgentFromConsumer'], errors='coerce')\n",
    "data_2024['firstResponseTimeAgentFromConsumer'] = pd.to_numeric(data_2024['firstResponseTimeAgentFromConsumer'], errors='coerce')"
   ]
  },
  {
   "cell_type": "code",
   "execution_count": 21,
   "metadata": {},
   "outputs": [],
   "source": [
    "# Calculando o tempo médio de primeira resposta para cada período, ignorando valores NaN\n",
    "first_response_mean_2023 = data_2023['firstResponseTimeAgentFromConsumer'].mean()\n",
    "first_response_mean_2024 = data_2024['firstResponseTimeAgentFromConsumer'].mean()"
   ]
  },
  {
   "cell_type": "code",
   "execution_count": 22,
   "metadata": {},
   "outputs": [
    {
     "data": {
      "text/plain": [
       "(171.54231204527082, 681.526931330472)"
      ]
     },
     "execution_count": 22,
     "metadata": {},
     "output_type": "execute_result"
    }
   ],
   "source": [
    "# Exibindo os resultados\n",
    "first_response_mean_2023, first_response_mean_2024"
   ]
  },
  {
   "cell_type": "markdown",
   "metadata": {},
   "source": [
    "Aqui estão os resultados para o Tempo Médio de Primeira Resposta (First Response Time):\n",
    "\n",
    "Outubro de 2023 (sem IA): aproximadamente 171,5 segundos\n",
    "Outubro de 2024 (com IA): aproximadamente 681,5 segundos"
   ]
  },
  {
   "cell_type": "markdown",
   "metadata": {},
   "source": [
    "# 4. Taxa de Escalamento para Humanos"
   ]
  },
  {
   "cell_type": "code",
   "execution_count": 23,
   "metadata": {},
   "outputs": [],
   "source": [
    "# Substituir valores ausentes por zero para evitar problemas no cálculo\n",
    "data_2023['messageCountAgentBot'] = data_2023['messageCountAgentBot'].fillna(0)\n",
    "data_2023['messageCountAgentHuman'] = data_2023['messageCountAgentHuman'].fillna(0)\n",
    "data_2024['messageCountAgentBot'] = data_2024['messageCountAgentBot'].fillna(0)\n",
    "data_2024['messageCountAgentHuman'] = data_2024['messageCountAgentHuman'].fillna(0)"
   ]
  },
  {
   "cell_type": "code",
   "execution_count": 25,
   "metadata": {},
   "outputs": [],
   "source": [
    "# Contagem de interações que foram resolvidas pela IA e que foram escaladas para agentes humanos\n",
    "resolved_by_ia_2023 = data_2023[data_2023['messageCountAgentBot'] > 0].shape[0]\n",
    "escalated_to_human_2023 = data_2023[data_2023['messageCountAgentHuman'] > 0].shape[0]\n",
    "\n",
    "resolved_by_ia_2024 = data_2024[data_2024['messageCountAgentBot'] > 0].shape[0]\n",
    "escalated_to_human_2024 = data_2024[data_2024['messageCountAgentHuman'] > 0].shape[0]"
   ]
  },
  {
   "cell_type": "code",
   "execution_count": 26,
   "metadata": {},
   "outputs": [
    {
     "data": {
      "text/plain": [
       "(741, 1250, 724, 1326)"
      ]
     },
     "execution_count": 26,
     "metadata": {},
     "output_type": "execute_result"
    }
   ],
   "source": [
    "# Exibindo os resultados\n",
    "resolved_by_ia_2023, escalated_to_human_2023, resolved_by_ia_2024, escalated_to_human_2024"
   ]
  },
  {
   "cell_type": "markdown",
   "metadata": {},
   "source": [
    "Outubro de 2023 (sem IA):\n",
    "\n",
    "Interações resolvidas pela IA: 741\n",
    "Interações escaladas para agentes humanos: 1.250\n",
    "\n",
    "Outubro de 2024 (com IA):\n",
    "\n",
    "Interações resolvidas pela IA: 724\n",
    "Interações escaladas para agentes humanos: 1.326"
   ]
  },
  {
   "cell_type": "markdown",
   "metadata": {},
   "source": [
    "# 5. Frequência e Padrões de Intenções"
   ]
  },
  {
   "cell_type": "code",
   "execution_count": 27,
   "metadata": {},
   "outputs": [
    {
     "data": {
      "text/plain": [
       "([('intenção de', 3), ('intenção prejudicar', 1)],\n",
       " [('intenção é', 1), ('intenção de', 1)])"
      ]
     },
     "execution_count": 27,
     "metadata": {},
     "output_type": "execute_result"
    }
   ],
   "source": [
    "from collections import Counter\n",
    "import re\n",
    "\n",
    "def extract_intentions(transcript_column):\n",
    "    \"\"\"Extrai intenções da coluna de transcrição usando um padrão básico de palavras-chave.\n",
    "       Este é um exemplo simples e pode ser ajustado conforme as intenções esperadas.\"\"\"\n",
    "    intentions = []\n",
    "    for text in transcript_column.dropna():\n",
    "        # Exemplo de padrão para encontrar intenções (pode ser ajustado)\n",
    "        found_intentions = re.findall(r'\\b(intenção\\s+\\w+|intenção:\\s*\\w+)', text, re.IGNORECASE)\n",
    "        intentions.extend(found_intentions)\n",
    "    return intentions\n",
    "\n",
    "# Extraindo intenções para cada período\n",
    "intentions_2023 = extract_intentions(data_2023['transcriptAll'])\n",
    "intentions_2024 = extract_intentions(data_2024['transcriptAll'])\n",
    "\n",
    "# Contando as intenções mais frequentes em cada período\n",
    "intentions_count_2023 = Counter(intentions_2023).most_common(10)\n",
    "intentions_count_2024 = Counter(intentions_2024).most_common(10)\n",
    "\n",
    "# Exibindo os resultados\n",
    "intentions_count_2023, intentions_count_2024\n"
   ]
  },
  {
   "cell_type": "markdown",
   "metadata": {},
   "source": [
    "Os resultados mostram que as intenções extraídas nas transcrições foram limitadas:\n",
    "\n",
    "Outubro de 2023 (sem IA): Intenções detectadas, como \"intenção de\" e \"intenção prejudicar\".\n",
    "Outubro de 2024 (com IA): Intenções detectadas incluem \"intenção é\" e \"intenção de\"."
   ]
  },
  {
   "cell_type": "markdown",
   "metadata": {},
   "source": [
    "# 6. Análise de Eficiência do Canal"
   ]
  },
  {
   "cell_type": "code",
   "execution_count": 28,
   "metadata": {},
   "outputs": [
    {
     "data": {
      "text/plain": [
       "(array(['Email', 'WhatsApp Business', 'AGENT'], dtype=object),\n",
       " array(['WhatsApp Business', 'Email', 'AGENT'], dtype=object),\n",
       " array([nan]),\n",
       " array([nan]))"
      ]
     },
     "execution_count": 28,
     "metadata": {},
     "output_type": "execute_result"
    }
   ],
   "source": [
    "# Verificando as colunas 'source' e 'device' para identificar os diferentes canais\n",
    "# Exibindo os valores únicos em cada coluna para entender quais canais estão disponíveis\n",
    "\n",
    "source_2023 = data_2023['source'].unique()\n",
    "source_2024 = data_2024['source'].unique()\n",
    "\n",
    "device_2023 = data_2023['device'].unique()\n",
    "device_2024 = data_2024['device'].unique()\n",
    "\n",
    "source_2023, source_2024, device_2023, device_2024\n"
   ]
  },
  {
   "cell_type": "code",
   "execution_count": 29,
   "metadata": {},
   "outputs": [
    {
     "data": {
      "text/plain": [
       "(source\n",
       " WhatsApp Business    852\n",
       " Email                499\n",
       " AGENT                109\n",
       " Name: count, dtype: int64,\n",
       " source\n",
       " WhatsApp Business    1011\n",
       " Email                 459\n",
       " AGENT                  46\n",
       " Name: count, dtype: int64)"
      ]
     },
     "execution_count": 29,
     "metadata": {},
     "output_type": "execute_result"
    }
   ],
   "source": [
    "# Calculando a frequência de interações por canal em cada período\n",
    "channel_counts_2023 = data_2023['source'].value_counts()\n",
    "channel_counts_2024 = data_2024['source'].value_counts()\n",
    "\n",
    "# Exibindo os resultados\n",
    "channel_counts_2023, channel_counts_2024\n"
   ]
  },
  {
   "cell_type": "markdown",
   "metadata": {},
   "source": [
    "Outubro de 2023 (sem IA):\n",
    "\n",
    "WhatsApp Business: 852 interações\n",
    "Email: 499 interações\n",
    "AGENT: 109 interações\n",
    "Outubro de 2024 (com IA):\n",
    "\n",
    "WhatsApp Business: 1.011 interações\n",
    "Email: 459 interações\n",
    "AGENT: 46 interações\n",
    "Observamos que:\n",
    "\n",
    "O canal WhatsApp Business teve um aumento significativo de interações no período com IA.\n",
    "O canal AGENT teve uma queda nas interações, o que pode indicar uma redução na necessidade de agentes humanos diretos devido ao uso da IA."
   ]
  },
  {
   "cell_type": "markdown",
   "metadata": {},
   "source": []
  },
  {
   "cell_type": "markdown",
   "metadata": {},
   "source": [
    "Email: 459 interações\n",
    "AGENT: 46 interações\n",
    "Observamos que:\n",
    "\n",
    "O canal WhatsApp Business teve um aumento significativo de interações no período com IA.\n",
    "O canal AGENT teve uma queda nas interações, o que pode indicar uma redução na necessidade de agentes humanos diretos devido ao uso da IA."
   ]
  },
  {
   "cell_type": "markdown",
   "metadata": {},
   "source": [
    "# 7. Número Médio de Mensagens por Interação"
   ]
  },
  {
   "cell_type": "code",
   "execution_count": 30,
   "metadata": {},
   "outputs": [
    {
     "data": {
      "text/plain": [
       "(22.528767123287672, 18.82915567282322)"
      ]
     },
     "execution_count": 30,
     "metadata": {},
     "output_type": "execute_result"
    }
   ],
   "source": [
    "# Substituir valores ausentes por zero para evitar problemas no cálculo\n",
    "data_2023['messageCountAgent'] = data_2023['messageCountAgent'].fillna(0)\n",
    "data_2023['messageCountConsumer'] = data_2023['messageCountConsumer'].fillna(0)\n",
    "data_2024['messageCountAgent'] = data_2024['messageCountAgent'].fillna(0)\n",
    "data_2024['messageCountConsumer'] = data_2024['messageCountConsumer'].fillna(0)\n",
    "\n",
    "# Calcular o número total de mensagens (agente + consumidor) e a média de mensagens por interação\n",
    "data_2023['totalMessageCount'] = data_2023['messageCountAgent'] + data_2023['messageCountConsumer']\n",
    "data_2024['totalMessageCount'] = data_2024['messageCountAgent'] + data_2024['messageCountConsumer']\n",
    "\n",
    "# Calculando a média de mensagens por interação para cada período\n",
    "average_messages_2023 = data_2023['totalMessageCount'].mean()\n",
    "average_messages_2024 = data_2024['totalMessageCount'].mean()\n",
    "\n",
    "# Exibindo os resultados\n",
    "average_messages_2023, average_messages_2024\n"
   ]
  },
  {
   "cell_type": "markdown",
   "metadata": {},
   "source": [
    "Outubro de 2023 (sem IA): aproximadamente 22,5 mensagens por interação\n",
    "Outubro de 2024 (com IA): aproximadamente 18,8 mensagens por interação"
   ]
  },
  {
   "cell_type": "markdown",
   "metadata": {},
   "source": [
    "# 8. Taxa de Resolução na Primeira Interação (FCR)"
   ]
  },
  {
   "cell_type": "code",
   "execution_count": 31,
   "metadata": {},
   "outputs": [
    {
     "data": {
      "text/plain": [
       "(array(['AGENT', 'TIMEOUT'], dtype=object),\n",
       " array([nan, 'TIMEOUT', 'AGENT'], dtype=object))"
      ]
     },
     "execution_count": 31,
     "metadata": {},
     "output_type": "execute_result"
    }
   ],
   "source": [
    "# Verificando os valores únicos em 'closeReason' para identificar os que indicam resolução completa\n",
    "close_reason_2023 = data_2023['closeReason'].unique()\n",
    "close_reason_2024 = data_2024['closeReason'].unique()\n",
    "\n",
    "close_reason_2023, close_reason_2024\n"
   ]
  },
  {
   "cell_type": "code",
   "execution_count": 32,
   "metadata": {},
   "outputs": [
    {
     "data": {
      "text/plain": [
       "(66.23287671232877, 56.266490765171504)"
      ]
     },
     "execution_count": 32,
     "metadata": {},
     "output_type": "execute_result"
    }
   ],
   "source": [
    "# Contando interações com resolução na primeira tentativa (closeReason = 'AGENT')\n",
    "resolved_first_attempt_2023 = data_2023[data_2023['closeReason'] == 'AGENT'].shape[0]\n",
    "total_interactions_2023 = data_2023.shape[0]\n",
    "\n",
    "resolved_first_attempt_2024 = data_2024[data_2024['closeReason'] == 'AGENT'].shape[0]\n",
    "total_interactions_2024 = data_2024.shape[0]\n",
    "\n",
    "# Calculando a taxa de FCR para cada período\n",
    "fcr_rate_2023 = (resolved_first_attempt_2023 / total_interactions_2023) * 100\n",
    "fcr_rate_2024 = (resolved_first_attempt_2024 / total_interactions_2024) * 100\n",
    "\n",
    "# Exibindo os resultados\n",
    "fcr_rate_2023, fcr_rate_2024"
   ]
  },
  {
   "cell_type": "markdown",
   "metadata": {},
   "source": [
    "Aqui estão os resultados para a Taxa de Resolução na Primeira Interação (FCR):\n",
    "\n",
    "Outubro de 2023 (sem IA): 66,2%\n",
    "Outubro de 2024 (com IA): 56,3%"
   ]
  },
  {
   "cell_type": "markdown",
   "metadata": {},
   "source": [
    "# 9. Distribuição de Tempos de Interação"
   ]
  },
  {
   "cell_type": "code",
   "execution_count": 34,
   "metadata": {},
   "outputs": [],
   "source": [
    "def categorize_duration_adjusted(duration):\n",
    "    \"\"\"Classifica o tempo de duração com os novos critérios.\"\"\"\n",
    "    if duration < 30:       # Curto: menos de 30 minutos\n",
    "        return 'curto'\n",
    "    elif duration <= 120:   # Médio: entre 30 minutos e 2 horas\n",
    "        return 'medio'\n",
    "    else:                   # Longo: mais de 2 horas\n",
    "        return 'longo'"
   ]
  },
  {
   "cell_type": "code",
   "execution_count": 35,
   "metadata": {},
   "outputs": [
    {
     "data": {
      "text/plain": [
       "(duration_category\n",
       " longo    75.479452\n",
       " medio    12.534247\n",
       " curto    11.986301\n",
       " Name: proportion, dtype: float64,\n",
       " duration_category\n",
       " longo    91.041515\n",
       " medio     5.608157\n",
       " curto     3.350328\n",
       " Name: proportion, dtype: float64)"
      ]
     },
     "execution_count": 35,
     "metadata": {},
     "output_type": "execute_result"
    }
   ],
   "source": [
    "# Convertendo as colunas de data para datetime e calculando a duração em minutos\n",
    "data_2023['startTimeUTC'] = pd.to_datetime(data_2023['startTimeUTC'], errors='coerce')\n",
    "data_2023['endTimeUTC'] = pd.to_datetime(data_2023['endTimeUTC'], errors='coerce')\n",
    "data_2024['startTimeUTC'] = pd.to_datetime(data_2024['startTimeUTC'], errors='coerce')\n",
    "data_2024['endTimeUTC'] = pd.to_datetime(data_2024['endTimeUTC'], errors='coerce')\n",
    "\n",
    "# Calculando a duração das interações em minutos\n",
    "data_2023['duration_minutes'] = (data_2023['endTimeUTC'] - data_2023['startTimeUTC']).dt.total_seconds() / 60\n",
    "data_2024['duration_minutes'] = (data_2024['endTimeUTC'] - data_2024['startTimeUTC']).dt.total_seconds() / 60\n",
    "\n",
    "# Filtrando dados com duração válida\n",
    "data_filtered = data_2023.dropna(subset=['duration_minutes']).copy()\n",
    "data_2024_filtered = data_2024.dropna(subset=['duration_minutes']).copy()\n",
    "\n",
    "# Aplicando a nova função de categorização de duração\n",
    "data_filtered['duration_category'] = data_filtered['duration_minutes'].apply(categorize_duration_adjusted)\n",
    "data_2024_filtered['duration_category'] = data_2024_filtered['duration_minutes'].apply(categorize_duration_adjusted)\n",
    "\n",
    "# Calculando a distribuição ajustada das categorias de tempo de interação para cada período\n",
    "duration_distribution_adjusted_2023 = data_filtered['duration_category'].value_counts(normalize=True) * 100\n",
    "duration_distribution_adjusted_2024 = data_2024_filtered['duration_category'].value_counts(normalize=True) * 100\n",
    "\n",
    "# Exibindo os resultados\n",
    "duration_distribution_adjusted_2023, duration_distribution_adjusted_2024"
   ]
  },
  {
   "cell_type": "markdown",
   "metadata": {},
   "source": [
    "Aqui está a Distribuição de Tempos de Interação com os intervalos ajustados:\n",
    "\n",
    "Outubro de 2023 (sem IA):\n",
    "\n",
    "Longo: 75,5%\n",
    "Médio: 12,5%\n",
    "Curto: 12,0%\n",
    "Outubro de 2024 (com IA):\n",
    "\n",
    "Longo: 91,0%\n",
    "Médio: 5,6%\n",
    "Curto: 3,4%"
   ]
  },
  {
   "cell_type": "markdown",
   "metadata": {},
   "source": [
    "curto menos de 30 \n",
    "medio de 30 a 2h \n",
    "longo mais de 2h "
   ]
  }
 ],
 "metadata": {
  "kernelspec": {
   "display_name": "streamlit_sinasc_env",
   "language": "python",
   "name": "python3"
  },
  "language_info": {
   "codemirror_mode": {
    "name": "ipython",
    "version": 3
   },
   "file_extension": ".py",
   "mimetype": "text/x-python",
   "name": "python",
   "nbconvert_exporter": "python",
   "pygments_lexer": "ipython3",
   "version": "3.12.4"
  }
 },
 "nbformat": 4,
 "nbformat_minor": 2
}
